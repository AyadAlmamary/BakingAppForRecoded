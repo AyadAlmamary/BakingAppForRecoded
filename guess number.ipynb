{
  "nbformat": 4,
  "nbformat_minor": 0,
  "metadata": {
    "colab": {
      "name": "Untitled5.ipynb",
      "provenance": [],
      "authorship_tag": "ABX9TyNVMp+yUQbXVTc6I3WVb5w3",
      "include_colab_link": true
    },
    "kernelspec": {
      "name": "python3",
      "display_name": "Python 3"
    }
  },
  "cells": [
    {
      "cell_type": "markdown",
      "metadata": {
        "id": "view-in-github",
        "colab_type": "text"
      },
      "source": [
        "<a href=\"https://colab.research.google.com/github/AyadAlmamary/BakingAppForRecoded/blob/master/guess%20number.ipynb\" target=\"_parent\"><img src=\"https://colab.research.google.com/assets/colab-badge.svg\" alt=\"Open In Colab\"/></a>"
      ]
    },
    {
      "cell_type": "code",
      "metadata": {
        "id": "Cddr5TRxmSRv",
        "colab_type": "code",
        "colab": {}
      },
      "source": [
        "import tensorflow as tf\n",
        "import numpy as np\n",
        "from tensorflow import keras"
      ],
      "execution_count": 1,
      "outputs": []
    },
    {
      "cell_type": "code",
      "metadata": {
        "id": "57RpiOaXmpiM",
        "colab_type": "code",
        "colab": {}
      },
      "source": [
        "model=tf.keras.Sequential([keras.layers.Dense(units=1, input_shape=[1])])"
      ],
      "execution_count": 5,
      "outputs": []
    },
    {
      "cell_type": "code",
      "metadata": {
        "id": "_Qj_oZL6nJ9L",
        "colab_type": "code",
        "colab": {}
      },
      "source": [
        "model.compile(optimizer='sgd',loss='mean_squared_error')"
      ],
      "execution_count": 6,
      "outputs": []
    },
    {
      "cell_type": "code",
      "metadata": {
        "id": "pg0qAnrWnqc2",
        "colab_type": "code",
        "colab": {}
      },
      "source": [
        "xs = np.array([-1.0, 0.0, 1.0, 2.0, 3.0, 4.0], dtype=float)\n",
        "ys = np.array([-2.0, 1.0, 4.0, 7.0, 10.0, 13.0], dtype=float)"
      ],
      "execution_count": 7,
      "outputs": []
    },
    {
      "cell_type": "code",
      "metadata": {
        "id": "CnP4NztSn6Wz",
        "colab_type": "code",
        "colab": {
          "base_uri": "https://localhost:8080/",
          "height": 1000
        },
        "outputId": "6aed8bdb-9a7b-491e-9b6f-79681db1dd71"
      },
      "source": [
        "model.fit(xs,ys,epochs=45)"
      ],
      "execution_count": 8,
      "outputs": [
        {
          "output_type": "stream",
          "text": [
            "Epoch 1/45\n",
            "1/1 [==============================] - 0s 1ms/step - loss: 30.2258\n",
            "Epoch 2/45\n",
            "1/1 [==============================] - 0s 1ms/step - loss: 23.7895\n",
            "Epoch 3/45\n",
            "1/1 [==============================] - 0s 1ms/step - loss: 18.7255\n",
            "Epoch 4/45\n",
            "1/1 [==============================] - 0s 2ms/step - loss: 14.7412\n",
            "Epoch 5/45\n",
            "1/1 [==============================] - 0s 2ms/step - loss: 11.6064\n",
            "Epoch 6/45\n",
            "1/1 [==============================] - 0s 2ms/step - loss: 9.1399\n",
            "Epoch 7/45\n",
            "1/1 [==============================] - 0s 2ms/step - loss: 7.1992\n",
            "Epoch 8/45\n",
            "1/1 [==============================] - 0s 1ms/step - loss: 5.6722\n",
            "Epoch 9/45\n",
            "1/1 [==============================] - 0s 2ms/step - loss: 4.4706\n",
            "Epoch 10/45\n",
            "1/1 [==============================] - 0s 4ms/step - loss: 3.5251\n",
            "Epoch 11/45\n",
            "1/1 [==============================] - 0s 2ms/step - loss: 2.7811\n",
            "Epoch 12/45\n",
            "1/1 [==============================] - 0s 2ms/step - loss: 2.1955\n",
            "Epoch 13/45\n",
            "1/1 [==============================] - 0s 1ms/step - loss: 1.7347\n",
            "Epoch 14/45\n",
            "1/1 [==============================] - 0s 1ms/step - loss: 1.3720\n",
            "Epoch 15/45\n",
            "1/1 [==============================] - 0s 1ms/step - loss: 1.0865\n",
            "Epoch 16/45\n",
            "1/1 [==============================] - 0s 3ms/step - loss: 0.8618\n",
            "Epoch 17/45\n",
            "1/1 [==============================] - 0s 2ms/step - loss: 0.6848\n",
            "Epoch 18/45\n",
            "1/1 [==============================] - 0s 1ms/step - loss: 0.5454\n",
            "Epoch 19/45\n",
            "1/1 [==============================] - 0s 1ms/step - loss: 0.4356\n",
            "Epoch 20/45\n",
            "1/1 [==============================] - 0s 1ms/step - loss: 0.3491\n",
            "Epoch 21/45\n",
            "1/1 [==============================] - 0s 979us/step - loss: 0.2809\n",
            "Epoch 22/45\n",
            "1/1 [==============================] - 0s 1ms/step - loss: 0.2271\n",
            "Epoch 23/45\n",
            "1/1 [==============================] - 0s 3ms/step - loss: 0.1847\n",
            "Epoch 24/45\n",
            "1/1 [==============================] - 0s 1ms/step - loss: 0.1512\n",
            "Epoch 25/45\n",
            "1/1 [==============================] - 0s 1ms/step - loss: 0.1247\n",
            "Epoch 26/45\n",
            "1/1 [==============================] - 0s 939us/step - loss: 0.1037\n",
            "Epoch 27/45\n",
            "1/1 [==============================] - 0s 1ms/step - loss: 0.0871\n",
            "Epoch 28/45\n",
            "1/1 [==============================] - 0s 1ms/step - loss: 0.0740\n",
            "Epoch 29/45\n",
            "1/1 [==============================] - 0s 1ms/step - loss: 0.0635\n",
            "Epoch 30/45\n",
            "1/1 [==============================] - 0s 1ms/step - loss: 0.0551\n",
            "Epoch 31/45\n",
            "1/1 [==============================] - 0s 1ms/step - loss: 0.0485\n",
            "Epoch 32/45\n",
            "1/1 [==============================] - 0s 1ms/step - loss: 0.0431\n",
            "Epoch 33/45\n",
            "1/1 [==============================] - 0s 968us/step - loss: 0.0388\n",
            "Epoch 34/45\n",
            "1/1 [==============================] - 0s 1ms/step - loss: 0.0353\n",
            "Epoch 35/45\n",
            "1/1 [==============================] - 0s 1ms/step - loss: 0.0324\n",
            "Epoch 36/45\n",
            "1/1 [==============================] - 0s 1ms/step - loss: 0.0301\n",
            "Epoch 37/45\n",
            "1/1 [==============================] - 0s 948us/step - loss: 0.0282\n",
            "Epoch 38/45\n",
            "1/1 [==============================] - 0s 1ms/step - loss: 0.0266\n",
            "Epoch 39/45\n",
            "1/1 [==============================] - 0s 1ms/step - loss: 0.0252\n",
            "Epoch 40/45\n",
            "1/1 [==============================] - 0s 1ms/step - loss: 0.0240\n",
            "Epoch 41/45\n",
            "1/1 [==============================] - 0s 1ms/step - loss: 0.0230\n",
            "Epoch 42/45\n",
            "1/1 [==============================] - 0s 1ms/step - loss: 0.0222\n",
            "Epoch 43/45\n",
            "1/1 [==============================] - 0s 807us/step - loss: 0.0214\n",
            "Epoch 44/45\n",
            "1/1 [==============================] - 0s 1ms/step - loss: 0.0207\n",
            "Epoch 45/45\n",
            "1/1 [==============================] - 0s 1ms/step - loss: 0.0201\n"
          ],
          "name": "stdout"
        },
        {
          "output_type": "execute_result",
          "data": {
            "text/plain": [
              "<tensorflow.python.keras.callbacks.History at 0x7f01e7fc15f8>"
            ]
          },
          "metadata": {
            "tags": []
          },
          "execution_count": 8
        }
      ]
    },
    {
      "cell_type": "code",
      "metadata": {
        "id": "PwDcOExHoH4Q",
        "colab_type": "code",
        "colab": {
          "base_uri": "https://localhost:8080/",
          "height": 34
        },
        "outputId": "8495a30c-89a1-4915-c701-5de2e7565617"
      },
      "source": [
        "print(model.predict([10]))"
      ],
      "execution_count": 9,
      "outputs": [
        {
          "output_type": "stream",
          "text": [
            "[[31.3025]]\n"
          ],
          "name": "stdout"
        }
      ]
    }
  ]
}